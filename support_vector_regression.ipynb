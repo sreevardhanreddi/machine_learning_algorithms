{
 "cells": [
  {
   "cell_type": "code",
   "execution_count": 2,
   "metadata": {},
   "outputs": [
    {
     "name": "stdout",
     "output_type": "stream",
     "text": [
      "[[ 1]\n",
      " [ 2]\n",
      " [ 3]\n",
      " [ 4]\n",
      " [ 5]\n",
      " [ 6]\n",
      " [ 7]\n",
      " [ 8]\n",
      " [ 9]\n",
      " [10]]\n",
      "[[  45000]\n",
      " [  50000]\n",
      " [  60000]\n",
      " [  80000]\n",
      " [ 110000]\n",
      " [ 150000]\n",
      " [ 200000]\n",
      " [ 300000]\n",
      " [ 500000]\n",
      " [1000000]]\n",
      "            Position  Level   Salary\n",
      "0   Business Analyst      1    45000\n",
      "1  Junior Consultant      2    50000\n",
      "2  Senior Consultant      3    60000\n",
      "3            Manager      4    80000\n",
      "4    Country Manager      5   110000\n",
      "5     Region Manager      6   150000\n",
      "6            Partner      7   200000\n",
      "7     Senior Partner      8   300000\n",
      "8            C-level      9   500000\n",
      "9                CEO     10  1000000\n",
      "[[-1.5666989 ]\n",
      " [-1.21854359]\n",
      " [-0.87038828]\n",
      " [-0.52223297]\n",
      " [-0.17407766]\n",
      " [ 0.17407766]\n",
      " [ 0.52223297]\n",
      " [ 0.87038828]\n",
      " [ 1.21854359]\n",
      " [ 1.5666989 ]]\n",
      "[[-0.72004253]\n",
      " [-0.70243757]\n",
      " [-0.66722767]\n",
      " [-0.59680786]\n",
      " [-0.49117815]\n",
      " [-0.35033854]\n",
      " [-0.17428902]\n",
      " [ 0.17781001]\n",
      " [ 0.88200808]\n",
      " [ 2.64250325]]\n",
      "prediction \n",
      "[170370.0204065]\n"
     ]
    },
    {
     "name": "stderr",
     "output_type": "stream",
     "text": [
      "/home/ubuntu007/anaconda3/lib/python3.7/site-packages/sklearn/utils/validation.py:475: DataConversionWarning: Data with input dtype int64 was converted to float64 by StandardScaler.\n",
      "  warnings.warn(msg, DataConversionWarning)\n",
      "/home/ubuntu007/anaconda3/lib/python3.7/site-packages/sklearn/utils/validation.py:578: DataConversionWarning: A column-vector y was passed when a 1d array was expected. Please change the shape of y to (n_samples, ), for example using ravel().\n",
      "  y = column_or_1d(y, warn=True)\n"
     ]
    },
    {
     "data": {
      "text/plain": [
       "Text(0.5,1,'svr model')"
      ]
     },
     "execution_count": 2,
     "metadata": {},
     "output_type": "execute_result"
    },
    {
     "data": {
      "image/png": "[encoded data removed]",
      "text/plain": [
       "<Figure size 432x288 with 1 Axes>"
      ]
     },
     "metadata": {
      "needs_background": "light"
     },
     "output_type": "display_data"
    }
   ],
   "source": [
    "import numpy as np\n",
    "import matplotlib.pyplot as plt\n",
    "import pandas as pd\n",
    "\n",
    "\n",
    "dataset = pd.read_csv('Position_Salaries.csv')\n",
    "x = dataset.iloc[:, 1:2].values\n",
    "y = dataset.iloc[:, 2:].values\n",
    "print(x)\n",
    "print(y)\n",
    "print(dataset)\n",
    "\n",
    "from sklearn.preprocessing import StandardScaler\n",
    "sc_x = StandardScaler()\n",
    "x = sc_x.fit_transform(x)\n",
    "print(x)\n",
    "sc_y = StandardScaler()\n",
    "y = sc_y.fit_transform(y)\n",
    "print(y)\n",
    "\n",
    "from sklearn.svm import SVR\n",
    "regressor = SVR(kernel='rbf')\n",
    "regressor.fit(x,y)\n",
    "\n",
    "y_pred = sc_y.inverse_transform(\n",
    "    regressor.predict(sc_x.transform(np.array([[6.5]]))))\n",
    "print('prediction ')\n",
    "print(y_pred)\n",
    "\n",
    "x_grid = np.arange(min(x), max(x), 0.1)\n",
    "x_grid = x_grid.reshape((len(x_grid), 1))\n",
    "\n",
    "plt.scatter(x,y,color='red')\n",
    "plt.plot(x_grid,regressor.predict(x_grid), color='blue')\n",
    "\n",
    "plt.xlabel('position')\n",
    "plt.ylabel('salary')\n",
    "plt.title('svr model')"
   ]
  },
  {
   "cell_type": "code",
   "execution_count": null,
   "metadata": {},
   "outputs": [],
   "source": []
  },
  {
   "cell_type": "code",
   "execution_count": null,
   "metadata": {},
   "outputs": [],
   "source": []
  }
 ],
 "metadata": {
  "kernelspec": {
   "display_name": "Python 3",
   "language": "python",
   "name": "python3"
  },
  "varInspector": {
   "cols": {
    "lenName": 16,
    "lenType": 16,
    "lenVar": 40
   },
   "kernels_config": {
    "python": {
     "delete_cmd_postfix": "",
     "delete_cmd_prefix": "del ",
     "library": "var_list.py",
     "varRefreshCmd": "print(var_dic_list())"
    },
    "r": {
     "delete_cmd_postfix": ") ",
     "delete_cmd_prefix": "rm(",
     "library": "var_list.r",
     "varRefreshCmd": "cat(var_dic_list()) "
    }
   },
   "types_to_exclude": [
    "module",
    "function",
    "builtin_function_or_method",
    "instance",
    "_Feature"
   ],
   "window_display": false
  }
 },
 "nbformat": 4,
 "nbformat_minor": 2
}
